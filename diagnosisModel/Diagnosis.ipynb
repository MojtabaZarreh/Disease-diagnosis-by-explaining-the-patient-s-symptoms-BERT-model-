{
  "cells": [
    {
      "cell_type": "code",
      "execution_count": 1,
      "metadata": {
        "id": "MMR3nrRXVvkj"
      },
      "outputs": [],
      "source": [
        "import numpy as np\n",
        "import pandas as pd\n",
        "import matplotlib.pyplot as plt\n",
        "import seaborn as sea\n",
        "import os\n",
        "from tqdm.notebook import tqdm\n",
        "import re\n",
        "import tensorflow as tf\n",
        "from tensorflow import keras\n",
        "from keras.preprocessing.text import Tokenizer\n",
        "import seaborn as sns\n",
        "plt.style.use('ggplot')"
      ]
    },
    {
      "cell_type": "code",
      "execution_count": null,
      "metadata": {
        "colab": {
          "base_uri": "https://localhost:8080/"
        },
        "id": "DhgzpqLYV8w0",
        "outputId": "3504792e-5809-4175-c031-36dd3df6b019"
      },
      "outputs": [
        {
          "name": "stdout",
          "output_type": "stream",
          "text": [
            "Collecting transformers\n",
            "  Downloading transformers-4.34.0-py3-none-any.whl (7.7 MB)\n",
            "\u001b[2K     \u001b[90m━━━━━━━━━━━━━━━━━━━━━━━━━━━━━━━━━━━━━━━━\u001b[0m \u001b[32m7.7/7.7 MB\u001b[0m \u001b[31m20.0 MB/s\u001b[0m eta \u001b[36m0:00:00\u001b[0m\n",
            "\u001b[?25hRequirement already satisfied: filelock in /usr/local/lib/python3.10/dist-packages (from transformers) (3.12.4)\n",
            "Collecting huggingface-hub<1.0,>=0.16.4 (from transformers)\n",
            "  Downloading huggingface_hub-0.17.3-py3-none-any.whl (295 kB)\n",
            "\u001b[2K     \u001b[90m━━━━━━━━━━━━━━━━━━━━━━━━━━━━━━━━━━━━━━\u001b[0m \u001b[32m295.0/295.0 kB\u001b[0m \u001b[31m26.0 MB/s\u001b[0m eta \u001b[36m0:00:00\u001b[0m\n",
            "\u001b[?25hRequirement already satisfied: numpy>=1.17 in /usr/local/lib/python3.10/dist-packages (from transformers) (1.23.5)\n",
            "Requirement already satisfied: packaging>=20.0 in /usr/local/lib/python3.10/dist-packages (from transformers) (23.2)\n",
            "Requirement already satisfied: pyyaml>=5.1 in /usr/local/lib/python3.10/dist-packages (from transformers) (6.0.1)\n",
            "Requirement already satisfied: regex!=2019.12.17 in /usr/local/lib/python3.10/dist-packages (from transformers) (2023.6.3)\n",
            "Requirement already satisfied: requests in /usr/local/lib/python3.10/dist-packages (from transformers) (2.31.0)\n",
            "Collecting tokenizers<0.15,>=0.14 (from transformers)\n",
            "  Downloading tokenizers-0.14.1-cp310-cp310-manylinux_2_17_x86_64.manylinux2014_x86_64.whl (3.8 MB)\n",
            "\u001b[2K     \u001b[90m━━━━━━━━━━━━━━━━━━━━━━━━━━━━━━━━━━━━━━━━\u001b[0m \u001b[32m3.8/3.8 MB\u001b[0m \u001b[31m22.8 MB/s\u001b[0m eta \u001b[36m0:00:00\u001b[0m\n",
            "\u001b[?25hCollecting safetensors>=0.3.1 (from transformers)\n",
            "  Downloading safetensors-0.4.0-cp310-cp310-manylinux_2_17_x86_64.manylinux2014_x86_64.whl (1.3 MB)\n",
            "\u001b[2K     \u001b[90m━━━━━━━━━━━━━━━━━━━━━━━━━━━━━━━━━━━━━━━━\u001b[0m \u001b[32m1.3/1.3 MB\u001b[0m \u001b[31m72.1 MB/s\u001b[0m eta \u001b[36m0:00:00\u001b[0m\n",
            "\u001b[?25hRequirement already satisfied: tqdm>=4.27 in /usr/local/lib/python3.10/dist-packages (from transformers) (4.66.1)\n",
            "Requirement already satisfied: fsspec in /usr/local/lib/python3.10/dist-packages (from huggingface-hub<1.0,>=0.16.4->transformers) (2023.6.0)\n",
            "Requirement already satisfied: typing-extensions>=3.7.4.3 in /usr/local/lib/python3.10/dist-packages (from huggingface-hub<1.0,>=0.16.4->transformers) (4.5.0)\n",
            "Requirement already satisfied: charset-normalizer<4,>=2 in /usr/local/lib/python3.10/dist-packages (from requests->transformers) (3.3.0)\n",
            "Requirement already satisfied: idna<4,>=2.5 in /usr/local/lib/python3.10/dist-packages (from requests->transformers) (3.4)\n",
            "Requirement already satisfied: urllib3<3,>=1.21.1 in /usr/local/lib/python3.10/dist-packages (from requests->transformers) (2.0.6)\n",
            "Requirement already satisfied: certifi>=2017.4.17 in /usr/local/lib/python3.10/dist-packages (from requests->transformers) (2023.7.22)\n",
            "Installing collected packages: safetensors, huggingface-hub, tokenizers, transformers\n",
            "Successfully installed huggingface-hub-0.17.3 safetensors-0.4.0 tokenizers-0.14.1 transformers-4.34.0\n"
          ]
        }
      ],
      "source": [
        "!pip install transformers"
      ]
    },
    {
      "cell_type": "code",
      "execution_count": 2,
      "metadata": {
        "colab": {
          "base_uri": "https://localhost:8080/",
          "height": 990
        },
        "id": "JDTV1ylhWB3c",
        "outputId": "d6b7191c-c1ba-4bc6-f5d4-421fd2288c18"
      },
      "outputs": [
        {
          "data": {
            "text/html": [
              "\n",
              "  <div id=\"df-8a09cb4f-ca74-4a64-839a-ef85c568f65e\" class=\"colab-df-container\">\n",
              "    <div>\n",
              "<style scoped>\n",
              "    .dataframe tbody tr th:only-of-type {\n",
              "        vertical-align: middle;\n",
              "    }\n",
              "\n",
              "    .dataframe tbody tr th {\n",
              "        vertical-align: top;\n",
              "    }\n",
              "\n",
              "    .dataframe thead th {\n",
              "        text-align: right;\n",
              "    }\n",
              "</style>\n",
              "<table border=\"1\" class=\"dataframe\">\n",
              "  <thead>\n",
              "    <tr style=\"text-align: right;\">\n",
              "      <th></th>\n",
              "      <th>label</th>\n",
              "      <th>text</th>\n",
              "    </tr>\n",
              "  </thead>\n",
              "  <tbody>\n",
              "    <tr>\n",
              "      <th>0</th>\n",
              "      <td>Psoriasis</td>\n",
              "      <td>I have been experiencing a skin rash on my arm...</td>\n",
              "    </tr>\n",
              "    <tr>\n",
              "      <th>1</th>\n",
              "      <td>Psoriasis</td>\n",
              "      <td>My skin has been peeling, especially on my kne...</td>\n",
              "    </tr>\n",
              "    <tr>\n",
              "      <th>2</th>\n",
              "      <td>Psoriasis</td>\n",
              "      <td>I have been experiencing joint pain in my fing...</td>\n",
              "    </tr>\n",
              "    <tr>\n",
              "      <th>3</th>\n",
              "      <td>Psoriasis</td>\n",
              "      <td>There is a silver like dusting on my skin, esp...</td>\n",
              "    </tr>\n",
              "    <tr>\n",
              "      <th>4</th>\n",
              "      <td>Psoriasis</td>\n",
              "      <td>My nails have small dents or pits in them, and...</td>\n",
              "    </tr>\n",
              "    <tr>\n",
              "      <th>5</th>\n",
              "      <td>Psoriasis</td>\n",
              "      <td>The skin on my palms and soles is thickened an...</td>\n",
              "    </tr>\n",
              "    <tr>\n",
              "      <th>6</th>\n",
              "      <td>Psoriasis</td>\n",
              "      <td>The skin around my mouth, nose, and eyes is re...</td>\n",
              "    </tr>\n",
              "    <tr>\n",
              "      <th>7</th>\n",
              "      <td>Psoriasis</td>\n",
              "      <td>My skin is very sensitive and reacts easily to...</td>\n",
              "    </tr>\n",
              "    <tr>\n",
              "      <th>8</th>\n",
              "      <td>Psoriasis</td>\n",
              "      <td>I have noticed a sudden peeling of skin at dif...</td>\n",
              "    </tr>\n",
              "    <tr>\n",
              "      <th>9</th>\n",
              "      <td>Psoriasis</td>\n",
              "      <td>The skin on my genitals is red and inflamed. I...</td>\n",
              "    </tr>\n",
              "    <tr>\n",
              "      <th>10</th>\n",
              "      <td>Psoriasis</td>\n",
              "      <td>I have experienced fatigue and a general feeli...</td>\n",
              "    </tr>\n",
              "    <tr>\n",
              "      <th>11</th>\n",
              "      <td>Psoriasis</td>\n",
              "      <td>The rash on my skin has spread to other parts ...</td>\n",
              "    </tr>\n",
              "    <tr>\n",
              "      <th>12</th>\n",
              "      <td>Psoriasis</td>\n",
              "      <td>The rash on my skin is worse in the winter mon...</td>\n",
              "    </tr>\n",
              "    <tr>\n",
              "      <th>13</th>\n",
              "      <td>Psoriasis</td>\n",
              "      <td>I have experienced difficulty sleeping due to ...</td>\n",
              "    </tr>\n",
              "    <tr>\n",
              "      <th>14</th>\n",
              "      <td>Psoriasis</td>\n",
              "      <td>My skin is prone to infections due to dry, fla...</td>\n",
              "    </tr>\n",
              "    <tr>\n",
              "      <th>15</th>\n",
              "      <td>Psoriasis</td>\n",
              "      <td>I am starting to have rashes on my skin. The r...</td>\n",
              "    </tr>\n",
              "    <tr>\n",
              "      <th>16</th>\n",
              "      <td>Psoriasis</td>\n",
              "      <td>I have noticed that my skin has become more se...</td>\n",
              "    </tr>\n",
              "    <tr>\n",
              "      <th>17</th>\n",
              "      <td>Psoriasis</td>\n",
              "      <td>I am worried about the constant peeling of the...</td>\n",
              "    </tr>\n",
              "    <tr>\n",
              "      <th>18</th>\n",
              "      <td>Psoriasis</td>\n",
              "      <td>There is strange pain in my joints. Also, I ha...</td>\n",
              "    </tr>\n",
              "    <tr>\n",
              "      <th>19</th>\n",
              "      <td>Psoriasis</td>\n",
              "      <td>My nails have small dents on them. Even my joi...</td>\n",
              "    </tr>\n",
              "    <tr>\n",
              "      <th>20</th>\n",
              "      <td>Psoriasis</td>\n",
              "      <td>The rashes on my skin are not healing. Moreove...</td>\n",
              "    </tr>\n",
              "    <tr>\n",
              "      <th>21</th>\n",
              "      <td>Psoriasis</td>\n",
              "      <td>For the past few weeks, I've had a skin rash o...</td>\n",
              "    </tr>\n",
              "    <tr>\n",
              "      <th>22</th>\n",
              "      <td>Psoriasis</td>\n",
              "      <td>My skin is peeling, particularly on my knees, ...</td>\n",
              "    </tr>\n",
              "    <tr>\n",
              "      <th>23</th>\n",
              "      <td>Psoriasis</td>\n",
              "      <td>I'm having joint discomfort in my fingers, wri...</td>\n",
              "    </tr>\n",
              "    <tr>\n",
              "      <th>24</th>\n",
              "      <td>Psoriasis</td>\n",
              "      <td>My skin has a silvery film, particularly on my...</td>\n",
              "    </tr>\n",
              "    <tr>\n",
              "      <th>25</th>\n",
              "      <td>Psoriasis</td>\n",
              "      <td>I have red and inflammatory skin around my mou...</td>\n",
              "    </tr>\n",
              "    <tr>\n",
              "      <th>26</th>\n",
              "      <td>Psoriasis</td>\n",
              "      <td>My skin is extremely sensitive and quickly irr...</td>\n",
              "    </tr>\n",
              "    <tr>\n",
              "      <th>27</th>\n",
              "      <td>Psoriasis</td>\n",
              "      <td>I've seen a sudden peeling of skin on various ...</td>\n",
              "    </tr>\n",
              "    <tr>\n",
              "      <th>28</th>\n",
              "      <td>Psoriasis</td>\n",
              "      <td>My genital skin is red and irritated. It is fr...</td>\n",
              "    </tr>\n",
              "    <tr>\n",
              "      <th>29</th>\n",
              "      <td>Psoriasis</td>\n",
              "      <td>I've had trouble sleeping because of the itchi...</td>\n",
              "    </tr>\n",
              "  </tbody>\n",
              "</table>\n",
              "</div>\n",
              "    <div class=\"colab-df-buttons\">\n",
              "\n",
              "  <div class=\"colab-df-container\">\n",
              "    <button class=\"colab-df-convert\" onclick=\"convertToInteractive('df-8a09cb4f-ca74-4a64-839a-ef85c568f65e')\"\n",
              "            title=\"Convert this dataframe to an interactive table.\"\n",
              "            style=\"display:none;\">\n",
              "\n",
              "  <svg xmlns=\"http://www.w3.org/2000/svg\" height=\"24px\" viewBox=\"0 -960 960 960\">\n",
              "    <path d=\"M120-120v-720h720v720H120Zm60-500h600v-160H180v160Zm220 220h160v-160H400v160Zm0 220h160v-160H400v160ZM180-400h160v-160H180v160Zm440 0h160v-160H620v160ZM180-180h160v-160H180v160Zm440 0h160v-160H620v160Z\"/>\n",
              "  </svg>\n",
              "    </button>\n",
              "\n",
              "  <style>\n",
              "    .colab-df-container {\n",
              "      display:flex;\n",
              "      gap: 12px;\n",
              "    }\n",
              "\n",
              "    .colab-df-convert {\n",
              "      background-color: #E8F0FE;\n",
              "      border: none;\n",
              "      border-radius: 50%;\n",
              "      cursor: pointer;\n",
              "      display: none;\n",
              "      fill: #1967D2;\n",
              "      height: 32px;\n",
              "      padding: 0 0 0 0;\n",
              "      width: 32px;\n",
              "    }\n",
              "\n",
              "    .colab-df-convert:hover {\n",
              "      background-color: #E2EBFA;\n",
              "      box-shadow: 0px 1px 2px rgba(60, 64, 67, 0.3), 0px 1px 3px 1px rgba(60, 64, 67, 0.15);\n",
              "      fill: #174EA6;\n",
              "    }\n",
              "\n",
              "    .colab-df-buttons div {\n",
              "      margin-bottom: 4px;\n",
              "    }\n",
              "\n",
              "    [theme=dark] .colab-df-convert {\n",
              "      background-color: #3B4455;\n",
              "      fill: #D2E3FC;\n",
              "    }\n",
              "\n",
              "    [theme=dark] .colab-df-convert:hover {\n",
              "      background-color: #434B5C;\n",
              "      box-shadow: 0px 1px 3px 1px rgba(0, 0, 0, 0.15);\n",
              "      filter: drop-shadow(0px 1px 2px rgba(0, 0, 0, 0.3));\n",
              "      fill: #FFFFFF;\n",
              "    }\n",
              "  </style>\n",
              "\n",
              "    <script>\n",
              "      const buttonEl =\n",
              "        document.querySelector('#df-8a09cb4f-ca74-4a64-839a-ef85c568f65e button.colab-df-convert');\n",
              "      buttonEl.style.display =\n",
              "        google.colab.kernel.accessAllowed ? 'block' : 'none';\n",
              "\n",
              "      async function convertToInteractive(key) {\n",
              "        const element = document.querySelector('#df-8a09cb4f-ca74-4a64-839a-ef85c568f65e');\n",
              "        const dataTable =\n",
              "          await google.colab.kernel.invokeFunction('convertToInteractive',\n",
              "                                                    [key], {});\n",
              "        if (!dataTable) return;\n",
              "\n",
              "        const docLinkHtml = 'Like what you see? Visit the ' +\n",
              "          '<a target=\"_blank\" href=https://colab.research.google.com/notebooks/data_table.ipynb>data table notebook</a>'\n",
              "          + ' to learn more about interactive tables.';\n",
              "        element.innerHTML = '';\n",
              "        dataTable['output_type'] = 'display_data';\n",
              "        await google.colab.output.renderOutput(dataTable, element);\n",
              "        const docLink = document.createElement('div');\n",
              "        docLink.innerHTML = docLinkHtml;\n",
              "        element.appendChild(docLink);\n",
              "      }\n",
              "    </script>\n",
              "  </div>\n",
              "\n",
              "\n",
              "<div id=\"df-0d5766a3-3ac6-4dd8-8e8b-aaee2d31d174\">\n",
              "  <button class=\"colab-df-quickchart\" onclick=\"quickchart('df-0d5766a3-3ac6-4dd8-8e8b-aaee2d31d174')\"\n",
              "            title=\"Suggest charts.\"\n",
              "            style=\"display:none;\">\n",
              "\n",
              "<svg xmlns=\"http://www.w3.org/2000/svg\" height=\"24px\"viewBox=\"0 0 24 24\"\n",
              "     width=\"24px\">\n",
              "    <g>\n",
              "        <path d=\"M19 3H5c-1.1 0-2 .9-2 2v14c0 1.1.9 2 2 2h14c1.1 0 2-.9 2-2V5c0-1.1-.9-2-2-2zM9 17H7v-7h2v7zm4 0h-2V7h2v10zm4 0h-2v-4h2v4z\"/>\n",
              "    </g>\n",
              "</svg>\n",
              "  </button>\n",
              "\n",
              "<style>\n",
              "  .colab-df-quickchart {\n",
              "      --bg-color: #E8F0FE;\n",
              "      --fill-color: #1967D2;\n",
              "      --hover-bg-color: #E2EBFA;\n",
              "      --hover-fill-color: #174EA6;\n",
              "      --disabled-fill-color: #AAA;\n",
              "      --disabled-bg-color: #DDD;\n",
              "  }\n",
              "\n",
              "  [theme=dark] .colab-df-quickchart {\n",
              "      --bg-color: #3B4455;\n",
              "      --fill-color: #D2E3FC;\n",
              "      --hover-bg-color: #434B5C;\n",
              "      --hover-fill-color: #FFFFFF;\n",
              "      --disabled-bg-color: #3B4455;\n",
              "      --disabled-fill-color: #666;\n",
              "  }\n",
              "\n",
              "  .colab-df-quickchart {\n",
              "    background-color: var(--bg-color);\n",
              "    border: none;\n",
              "    border-radius: 50%;\n",
              "    cursor: pointer;\n",
              "    display: none;\n",
              "    fill: var(--fill-color);\n",
              "    height: 32px;\n",
              "    padding: 0;\n",
              "    width: 32px;\n",
              "  }\n",
              "\n",
              "  .colab-df-quickchart:hover {\n",
              "    background-color: var(--hover-bg-color);\n",
              "    box-shadow: 0 1px 2px rgba(60, 64, 67, 0.3), 0 1px 3px 1px rgba(60, 64, 67, 0.15);\n",
              "    fill: var(--button-hover-fill-color);\n",
              "  }\n",
              "\n",
              "  .colab-df-quickchart-complete:disabled,\n",
              "  .colab-df-quickchart-complete:disabled:hover {\n",
              "    background-color: var(--disabled-bg-color);\n",
              "    fill: var(--disabled-fill-color);\n",
              "    box-shadow: none;\n",
              "  }\n",
              "\n",
              "  .colab-df-spinner {\n",
              "    border: 2px solid var(--fill-color);\n",
              "    border-color: transparent;\n",
              "    border-bottom-color: var(--fill-color);\n",
              "    animation:\n",
              "      spin 1s steps(1) infinite;\n",
              "  }\n",
              "\n",
              "  @keyframes spin {\n",
              "    0% {\n",
              "      border-color: transparent;\n",
              "      border-bottom-color: var(--fill-color);\n",
              "      border-left-color: var(--fill-color);\n",
              "    }\n",
              "    20% {\n",
              "      border-color: transparent;\n",
              "      border-left-color: var(--fill-color);\n",
              "      border-top-color: var(--fill-color);\n",
              "    }\n",
              "    30% {\n",
              "      border-color: transparent;\n",
              "      border-left-color: var(--fill-color);\n",
              "      border-top-color: var(--fill-color);\n",
              "      border-right-color: var(--fill-color);\n",
              "    }\n",
              "    40% {\n",
              "      border-color: transparent;\n",
              "      border-right-color: var(--fill-color);\n",
              "      border-top-color: var(--fill-color);\n",
              "    }\n",
              "    60% {\n",
              "      border-color: transparent;\n",
              "      border-right-color: var(--fill-color);\n",
              "    }\n",
              "    80% {\n",
              "      border-color: transparent;\n",
              "      border-right-color: var(--fill-color);\n",
              "      border-bottom-color: var(--fill-color);\n",
              "    }\n",
              "    90% {\n",
              "      border-color: transparent;\n",
              "      border-bottom-color: var(--fill-color);\n",
              "    }\n",
              "  }\n",
              "</style>\n",
              "\n",
              "  <script>\n",
              "    async function quickchart(key) {\n",
              "      const quickchartButtonEl =\n",
              "        document.querySelector('#' + key + ' button');\n",
              "      quickchartButtonEl.disabled = true;  // To prevent multiple clicks.\n",
              "      quickchartButtonEl.classList.add('colab-df-spinner');\n",
              "      try {\n",
              "        const charts = await google.colab.kernel.invokeFunction(\n",
              "            'suggestCharts', [key], {});\n",
              "      } catch (error) {\n",
              "        console.error('Error during call to suggestCharts:', error);\n",
              "      }\n",
              "      quickchartButtonEl.classList.remove('colab-df-spinner');\n",
              "      quickchartButtonEl.classList.add('colab-df-quickchart-complete');\n",
              "    }\n",
              "    (() => {\n",
              "      let quickchartButtonEl =\n",
              "        document.querySelector('#df-0d5766a3-3ac6-4dd8-8e8b-aaee2d31d174 button');\n",
              "      quickchartButtonEl.style.display =\n",
              "        google.colab.kernel.accessAllowed ? 'block' : 'none';\n",
              "    })();\n",
              "  </script>\n",
              "</div>\n",
              "    </div>\n",
              "  </div>\n"
            ],
            "text/plain": [
              "        label                                               text\n",
              "0   Psoriasis  I have been experiencing a skin rash on my arm...\n",
              "1   Psoriasis  My skin has been peeling, especially on my kne...\n",
              "2   Psoriasis  I have been experiencing joint pain in my fing...\n",
              "3   Psoriasis  There is a silver like dusting on my skin, esp...\n",
              "4   Psoriasis  My nails have small dents or pits in them, and...\n",
              "5   Psoriasis  The skin on my palms and soles is thickened an...\n",
              "6   Psoriasis  The skin around my mouth, nose, and eyes is re...\n",
              "7   Psoriasis  My skin is very sensitive and reacts easily to...\n",
              "8   Psoriasis  I have noticed a sudden peeling of skin at dif...\n",
              "9   Psoriasis  The skin on my genitals is red and inflamed. I...\n",
              "10  Psoriasis  I have experienced fatigue and a general feeli...\n",
              "11  Psoriasis  The rash on my skin has spread to other parts ...\n",
              "12  Psoriasis  The rash on my skin is worse in the winter mon...\n",
              "13  Psoriasis  I have experienced difficulty sleeping due to ...\n",
              "14  Psoriasis  My skin is prone to infections due to dry, fla...\n",
              "15  Psoriasis  I am starting to have rashes on my skin. The r...\n",
              "16  Psoriasis  I have noticed that my skin has become more se...\n",
              "17  Psoriasis  I am worried about the constant peeling of the...\n",
              "18  Psoriasis  There is strange pain in my joints. Also, I ha...\n",
              "19  Psoriasis  My nails have small dents on them. Even my joi...\n",
              "20  Psoriasis  The rashes on my skin are not healing. Moreove...\n",
              "21  Psoriasis  For the past few weeks, I've had a skin rash o...\n",
              "22  Psoriasis  My skin is peeling, particularly on my knees, ...\n",
              "23  Psoriasis  I'm having joint discomfort in my fingers, wri...\n",
              "24  Psoriasis  My skin has a silvery film, particularly on my...\n",
              "25  Psoriasis  I have red and inflammatory skin around my mou...\n",
              "26  Psoriasis  My skin is extremely sensitive and quickly irr...\n",
              "27  Psoriasis  I've seen a sudden peeling of skin on various ...\n",
              "28  Psoriasis  My genital skin is red and irritated. It is fr...\n",
              "29  Psoriasis  I've had trouble sleeping because of the itchi..."
            ]
          },
          "execution_count": 2,
          "metadata": {},
          "output_type": "execute_result"
        }
      ],
      "source": [
        "df = pd.read_csv('/content/Symptom2Disease.csv')\n",
        "df.head(30)"
      ]
    },
    {
      "cell_type": "code",
      "execution_count": null,
      "metadata": {
        "colab": {
          "base_uri": "https://localhost:8080/"
        },
        "id": "kkSZBvcHWYGd",
        "outputId": "2bfdad8e-c810-4de0-ef1e-8e4a85b837fa"
      },
      "outputs": [
        {
          "name": "stdout",
          "output_type": "stream",
          "text": [
            "<class 'pandas.core.frame.DataFrame'>\n",
            "RangeIndex: 1816 entries, 0 to 1815\n",
            "Data columns (total 2 columns):\n",
            " #   Column  Non-Null Count  Dtype \n",
            "---  ------  --------------  ----- \n",
            " 0   label   1816 non-null   object\n",
            " 1   text    1816 non-null   object\n",
            "dtypes: object(2)\n",
            "memory usage: 28.5+ KB\n"
          ]
        }
      ],
      "source": [
        "df.info()"
      ]
    },
    {
      "cell_type": "code",
      "execution_count": null,
      "metadata": {
        "colab": {
          "base_uri": "https://localhost:8080/"
        },
        "id": "6hdgz8EYWdZU",
        "outputId": "ab751f44-45b1-477c-9fbc-d255420ad586"
      },
      "outputs": [
        {
          "data": {
            "text/plain": [
              "Unknown                            273\n",
              "Migraine                            50\n",
              "Muscle Spasm                        50\n",
              "Diarrhea                            50\n",
              "diabetes                            50\n",
              "peptic ulcer disease                50\n",
              "drug reaction                       50\n",
              "gastroesophageal reflux disease     50\n",
              "allergy                             50\n",
              "urinary tract infection             50\n",
              "Varicose Veins                      50\n",
              "Jaundice                            50\n",
              "Cervical spondylosis                50\n",
              "Psoriasis                           50\n",
              "Hypertension                        50\n",
              "Fungal infection                    50\n",
              "Typhoid                             50\n",
              "Chicken pox                         50\n",
              "Bronchial Asthma                    50\n",
              "Impetigo                            50\n",
              "Dengue                              50\n",
              "Malaria                             50\n",
              "Common Cold                         50\n",
              "Pneumonia                           50\n",
              "Dimorphic Hemorrhoids               50\n",
              "Arthritis                           50\n",
              "Acne                                50\n",
              "Constipation                        49\n",
              "Insomnia                            48\n",
              "Nausea/Vomiting                     47\n",
              "Cold Sores                          41\n",
              "Hemorrhoids                         30\n",
              "Dental Abscess                      23\n",
              "greeting                             5\n",
              "Name: label, dtype: int64"
            ]
          },
          "execution_count": 15,
          "metadata": {},
          "output_type": "execute_result"
        }
      ],
      "source": [
        "df['label'].value_counts()"
      ]
    },
    {
      "cell_type": "code",
      "execution_count": null,
      "metadata": {
        "colab": {
          "base_uri": "https://localhost:8080/"
        },
        "id": "vyr5d5zYWiAV",
        "outputId": "2868c6ff-9927-4537-cbdc-684ea1d8ccd6"
      },
      "outputs": [
        {
          "data": {
            "text/plain": [
              "({0: 'Psoriasis',\n",
              "  1: 'Varicose Veins',\n",
              "  2: 'Typhoid',\n",
              "  3: 'Chicken pox',\n",
              "  4: 'Impetigo',\n",
              "  5: 'Dengue',\n",
              "  6: 'Fungal infection',\n",
              "  7: 'Common Cold',\n",
              "  8: 'Pneumonia',\n",
              "  9: 'Dimorphic Hemorrhoids',\n",
              "  10: 'Arthritis',\n",
              "  11: 'Acne',\n",
              "  12: 'Bronchial Asthma',\n",
              "  13: 'Hypertension',\n",
              "  14: 'Migraine',\n",
              "  15: 'Cervical spondylosis',\n",
              "  16: 'Jaundice',\n",
              "  17: 'Malaria',\n",
              "  18: 'urinary tract infection',\n",
              "  19: 'allergy',\n",
              "  20: 'gastroesophageal reflux disease',\n",
              "  21: 'drug reaction',\n",
              "  22: 'peptic ulcer disease',\n",
              "  23: 'diabetes',\n",
              "  24: 'Cold Sores',\n",
              "  25: 'Constipation',\n",
              "  26: 'Dental Abscess',\n",
              "  27: 'Diarrhea',\n",
              "  28: 'Hemorrhoids',\n",
              "  29: 'Insomnia',\n",
              "  30: 'Muscle Spasm',\n",
              "  31: 'Nausea/Vomiting',\n",
              "  32: 'greeting',\n",
              "  33: 'Unknown'},\n",
              " {'Psoriasis': 0,\n",
              "  'Varicose Veins': 1,\n",
              "  'Typhoid': 2,\n",
              "  'Chicken pox': 3,\n",
              "  'Impetigo': 4,\n",
              "  'Dengue': 5,\n",
              "  'Fungal infection': 6,\n",
              "  'Common Cold': 7,\n",
              "  'Pneumonia': 8,\n",
              "  'Dimorphic Hemorrhoids': 9,\n",
              "  'Arthritis': 10,\n",
              "  'Acne': 11,\n",
              "  'Bronchial Asthma': 12,\n",
              "  'Hypertension': 13,\n",
              "  'Migraine': 14,\n",
              "  'Cervical spondylosis': 15,\n",
              "  'Jaundice': 16,\n",
              "  'Malaria': 17,\n",
              "  'urinary tract infection': 18,\n",
              "  'allergy': 19,\n",
              "  'gastroesophageal reflux disease': 20,\n",
              "  'drug reaction': 21,\n",
              "  'peptic ulcer disease': 22,\n",
              "  'diabetes': 23,\n",
              "  'Cold Sores': 24,\n",
              "  'Constipation': 25,\n",
              "  'Dental Abscess': 26,\n",
              "  'Diarrhea': 27,\n",
              "  'Hemorrhoids': 28,\n",
              "  'Insomnia': 29,\n",
              "  'Muscle Spasm': 30,\n",
              "  'Nausea/Vomiting': 31,\n",
              "  'greeting': 32,\n",
              "  'Unknown': 33})"
            ]
          },
          "execution_count": 16,
          "metadata": {},
          "output_type": "execute_result"
        }
      ],
      "source": [
        "int2label = {}\n",
        "\n",
        "for i, disease in enumerate(df['label'].unique()):\n",
        "    int2label[i] = disease\n",
        "\n",
        "label2int = {v : k for k, v in int2label.items()}\n",
        "num_classes = len(int2label)\n",
        "\n",
        "int2label, label2int"
      ]
    },
    {
      "cell_type": "code",
      "execution_count": 5,
      "metadata": {
        "colab": {
          "base_uri": "https://localhost:8080/",
          "height": 687
        },
        "id": "gwUEsGhTWzPj",
        "outputId": "c0d34be7-314e-40ac-b957-73318591f444"
      },
      "outputs": [
        {
          "data": {
            "image/png": "[encoded data removed]",
            "text/plain": [
              "<Figure size 640x480 with 1 Axes>"
            ]
          },
          "metadata": {},
          "output_type": "display_data"
        }
      ],
      "source": [
        "chart = sns.countplot(x = df.label)\n",
        "plt.title(\"Number of class\")\n",
        "chart.set_xticklabels(chart.get_xticklabels(), rotation=80, horizontalalignment='right');"
      ]
    },
    {
      "cell_type": "code",
      "execution_count": null,
      "metadata": {
        "id": "Yv5NKd_rzK4g"
      },
      "outputs": [],
      "source": [
        "import re\n",
        "def preprocessing(text):\n",
        "    text_without_tags = re.sub(r'<[^>]+>', ' ', text)\n",
        "    letters_only = re.sub('[^a-zA-Z]', ' ', text_without_tags)\n",
        "    words = letters_only.lower().split()\n",
        "    return ' '.join(words)\n",
        "\n",
        "df['text'] = df['text'].astype(str)\n",
        "df['text'] = df['text'].apply(preprocessing)"
      ]
    },
    {
      "cell_type": "code",
      "execution_count": null,
      "metadata": {
        "colab": {
          "base_uri": "https://localhost:8080/",
          "height": 36
        },
        "id": "RaLXgktd3MIY",
        "outputId": "4558ef89-da3b-4c1a-d39a-8cdbeb806ea4"
      },
      "outputs": [
        {
          "data": {
            "application/vnd.google.colaboratory.intrinsic+json": {
              "type": "string"
            },
            "text/plain": [
              "'i ve been experiencing intense itching all over my skin and it s driving me crazy i also have a rash that s red and inflamed'"
            ]
          },
          "execution_count": 19,
          "metadata": {},
          "output_type": "execute_result"
        }
      ],
      "source": [
        "df['text'][150]"
      ]
    },
    {
      "cell_type": "code",
      "execution_count": null,
      "metadata": {
        "colab": {
          "base_uri": "https://localhost:8080/",
          "height": 503,
          "referenced_widgets": [
            "b8c5357206074c0f9dc45390289cb132",
            "70b56ba1fb384aed802f960f36f1cf6e",
            "7e0337b186d04985a1a36ce14177e3c0",
            "b5620d0362744d85a12f7dbfeb0df149",
            "a55f15f827bb4667a80d6901ee7e8333",
            "e3927b7025ca415c8959f72186bdaf33",
            "c7b03aefd74d4bd28f8213e07f42b546",
            "da9b1d323a2c4ac7a334083da0b9595b",
            "11fbfab2f9b74e7c9505a1f9ada94b53",
            "55f5a7bb83d24639be8993199297b05d",
            "7f0e6f5fdca64c808e2f2e334ce6ba4a"
          ]
        },
        "id": "62A4USnUW1wj",
        "outputId": "8bbc5f55-cce9-4ab2-ab36-90a2d6250976"
      },
      "outputs": [
        {
          "data": {
            "application/vnd.jupyter.widget-view+json": {
              "model_id": "b8c5357206074c0f9dc45390289cb132",
              "version_major": 2,
              "version_minor": 0
            },
            "text/plain": [
              "  0%|          | 0/1816 [00:00<?, ?it/s]"
            ]
          },
          "metadata": {},
          "output_type": "display_data"
        },
        {
          "data": {
            "text/plain": [
              "Text(0.5, 1.0, 'Distribution of description length')"
            ]
          },
          "execution_count": 20,
          "metadata": {},
          "output_type": "execute_result"
        },
        {
          "data": {
            "image/png": "[encoded data removed]",
            "text/plain": [
              "<Figure size 640x480 with 1 Axes>"
            ]
          },
          "metadata": {},
          "output_type": "display_data"
        }
      ],
      "source": [
        "length = []\n",
        "for txt in tqdm(df['text'].values):\n",
        "    length.append(len(txt.split()))\n",
        "\n",
        "sea.histplot(length, kde = True, bins = 20)\n",
        "plt.title('Distribution of description length')"
      ]
    },
    {
      "cell_type": "code",
      "execution_count": null,
      "metadata": {
        "colab": {
          "base_uri": "https://localhost:8080/"
        },
        "id": "Cefp-wXYXiYs",
        "outputId": "a35af02e-0be5-41fe-ab8e-5bbfcb78876d"
      },
      "outputs": [
        {
          "name": "stdout",
          "output_type": "stream",
          "text": [
            "X vocab: 4254\n"
          ]
        }
      ],
      "source": [
        "df['label'] = df['label'].map(lambda x : label2int[x])\n",
        "\n",
        "X, y = df['text'].values, df['label'].values\n",
        "x_tokenizer = Tokenizer(filters = '')\n",
        "x_tokenizer.fit_on_texts(X)\n",
        "x_vocab = len(x_tokenizer.word_index) + 1\n",
        "print(\"X vocab:\", x_vocab)"
      ]
    },
    {
      "cell_type": "code",
      "execution_count": null,
      "metadata": {
        "colab": {
          "base_uri": "https://localhost:8080/"
        },
        "id": "kDQSMVLcXsIs",
        "outputId": "7082e4be-ed3d-47a5-b09b-04a7f477da9d"
      },
      "outputs": [
        {
          "data": {
            "text/plain": [
              "((1634,), (182,), (1634,), (182,))"
            ]
          },
          "execution_count": 22,
          "metadata": {},
          "output_type": "execute_result"
        }
      ],
      "source": [
        "from sklearn.model_selection import train_test_split\n",
        "\n",
        "train_x, val_x, train_y, val_y = train_test_split(X, y, test_size = 0.1, stratify = y)\n",
        "train_x.shape, val_x.shape, train_y.shape, val_y.shape"
      ]
    },
    {
      "cell_type": "code",
      "execution_count": null,
      "metadata": {
        "colab": {
          "base_uri": "https://localhost:8080/"
        },
        "id": "qU_Cl_XC6JHO",
        "outputId": "bd29c6d7-8cb0-49a9-ce06-3f12b197e943"
      },
      "outputs": [
        {
          "data": {
            "text/plain": [
              "15"
            ]
          },
          "execution_count": 47,
          "metadata": {},
          "output_type": "execute_result"
        }
      ],
      "source": [
        "train_y[10]"
      ]
    },
    {
      "cell_type": "code",
      "execution_count": null,
      "metadata": {
        "id": "2sjynYKAXvU0"
      },
      "outputs": [],
      "source": [
        "from transformers import AutoTokenizer\n",
        "BATCH_SIZE = 8\n",
        "\n",
        "tokenizer = AutoTokenizer.from_pretrained(\"bert-base-cased\")\n",
        "train_encodings = tokenizer(list(train_x), padding=\"max_length\", truncation=True)\n",
        "val_encodings = tokenizer(list(val_x), padding=\"max_length\", truncation=True)\n",
        "\n",
        "train_dataset = tf.data.Dataset.from_tensor_slices((\n",
        "    dict(train_encodings),\n",
        "    train_y\n",
        ")).batch(BATCH_SIZE)\n",
        "\n",
        "val_dataset = tf.data.Dataset.from_tensor_slices((\n",
        "    dict(val_encodings),\n",
        "    val_y\n",
        ")).batch(BATCH_SIZE)"
      ]
    },
    {
      "cell_type": "code",
      "execution_count": null,
      "metadata": {
        "colab": {
          "base_uri": "https://localhost:8080/"
        },
        "id": "AmFI3bWHX3ws",
        "outputId": "85f73135-7797-4576-b8d9-a03b84af68c0"
      },
      "outputs": [
        {
          "name": "stderr",
          "output_type": "stream",
          "text": [
            "All PyTorch model weights were used when initializing TFBertForSequenceClassification.\n",
            "\n",
            "Some weights or buffers of the TF 2.0 model TFBertForSequenceClassification were not initialized from the PyTorch model and are newly initialized: ['classifier.weight', 'classifier.bias']\n",
            "You should probably TRAIN this model on a down-stream task to be able to use it for predictions and inference.\n"
          ]
        },
        {
          "data": {
            "text/plain": [
              "<transformers.models.bert.modeling_tf_bert.TFBertForSequenceClassification at 0x7e6990f211e0>"
            ]
          },
          "execution_count": 54,
          "metadata": {},
          "output_type": "execute_result"
        }
      ],
      "source": [
        "num_classes = 34\n",
        "\n",
        "from transformers import TFAutoModelForSequenceClassification\n",
        "\n",
        "model = TFAutoModelForSequenceClassification.from_pretrained(\n",
        "    \"bert-base-cased\",\n",
        "    num_labels = num_classes,\n",
        "    id2label = int2label,\n",
        "    label2id = label2int,\n",
        "    output_attentions = True)\n",
        "\n",
        "model.compile(\n",
        "    loss = keras.losses.SparseCategoricalCrossentropy(from_logits=True),\n",
        "    optimizer = keras.optimizers.Adam(learning_rate = 3e-5),\n",
        "    metrics = ['accuracy'])\n",
        "\n",
        "model"
      ]
    },
    {
      "cell_type": "code",
      "execution_count": null,
      "metadata": {
        "colab": {
          "base_uri": "https://localhost:8080/"
        },
        "id": "c4o7VlmOYOBU",
        "outputId": "7838075e-0218-4ce9-b91c-2a9e9be5f15c"
      },
      "outputs": [
        {
          "name": "stdout",
          "output_type": "stream",
          "text": [
            "Model: \"tf_bert_for_sequence_classification_1\"\n",
            "_________________________________________________________________\n",
            " Layer (type)                Output Shape              Param #   \n",
            "=================================================================\n",
            " bert (TFBertMainLayer)      multiple                  108310272 \n",
            "                                                                 \n",
            " dropout_75 (Dropout)        multiple                  0         \n",
            "                                                                 \n",
            " classifier (Dense)          multiple                  26146     \n",
            "                                                                 \n",
            "=================================================================\n",
            "Total params: 108336418 (413.27 MB)\n",
            "Trainable params: 108336418 (413.27 MB)\n",
            "Non-trainable params: 0 (0.00 Byte)\n",
            "_________________________________________________________________\n"
          ]
        }
      ],
      "source": [
        "model.summary()"
      ]
    },
    {
      "cell_type": "code",
      "execution_count": null,
      "metadata": {
        "colab": {
          "base_uri": "https://localhost:8080/"
        },
        "id": "KplaiaSoYQy8",
        "outputId": "4c094dcd-0995-40fb-a26b-9ccc3cd0dadd"
      },
      "outputs": [
        {
          "name": "stdout",
          "output_type": "stream",
          "text": [
            "Epoch 1/5\n",
            "205/205 [==============================] - 241s 954ms/step - loss: 2.7066 - accuracy: 0.3415 - val_loss: 1.8231 - val_accuracy: 0.6484\n",
            "Epoch 2/5\n",
            "205/205 [==============================] - 190s 927ms/step - loss: 1.3301 - accuracy: 0.7583 - val_loss: 0.9695 - val_accuracy: 0.7802\n",
            "Epoch 3/5\n",
            "205/205 [==============================] - 194s 946ms/step - loss: 0.6116 - accuracy: 0.9259 - val_loss: 0.5640 - val_accuracy: 0.8791\n",
            "Epoch 4/5\n",
            "205/205 [==============================] - 197s 960ms/step - loss: 0.2648 - accuracy: 0.9798 - val_loss: 0.3278 - val_accuracy: 0.9341\n",
            "Epoch 5/5\n",
            "205/205 [==============================] - 194s 947ms/step - loss: 0.1412 - accuracy: 0.9878 - val_loss: 0.3637 - val_accuracy: 0.9176\n"
          ]
        }
      ],
      "source": [
        "EPOCHS = 5\n",
        "history = model.fit(train_dataset,\n",
        "          epochs = EPOCHS,\n",
        "          validation_data = val_dataset)"
      ]
    },
    {
      "cell_type": "code",
      "execution_count": null,
      "metadata": {
        "colab": {
          "base_uri": "https://localhost:8080/",
          "height": 487
        },
        "id": "xb6O_yhkYaIE",
        "outputId": "ba5c7fbf-aa11-4db2-aa9b-886426bd69ac"
      },
      "outputs": [
        {
          "data": {
            "text/plain": [
              "<matplotlib.legend.Legend at 0x7e693c1ebb20>"
            ]
          },
          "execution_count": 56,
          "metadata": {},
          "output_type": "execute_result"
        },
        {
          "data": {
            "image/png": "[encoded data removed]",
            "text/plain": [
              "<Figure size 1400x500 with 2 Axes>"
            ]
          },
          "metadata": {},
          "output_type": "display_data"
        }
      ],
      "source": [
        "plt.figure(figsize = (14, 5))\n",
        "\n",
        "plt.subplot(1,2,1)\n",
        "plt.title('Loss')\n",
        "plt.plot(history.history['loss'], marker = 'o', label = 'Training')\n",
        "plt.plot(history.history['val_loss'], marker='o', label = 'Validation')\n",
        "plt.legend()\n",
        "\n",
        "plt.subplot(1,2,2)\n",
        "plt.title('Accuracy')\n",
        "plt.plot(history.history['accuracy'], marker = 'o', label = 'Training')\n",
        "plt.plot(history.history['val_accuracy'], marker='o', label = 'Validation')\n",
        "plt.legend()"
      ]
    },
    {
      "cell_type": "code",
      "execution_count": null,
      "metadata": {
        "id": "QqBF9S1zc7h9"
      },
      "outputs": [],
      "source": [
        "model_save_path = \"/content/\"\n",
        "model.save_pretrained(model_save_path)"
      ]
    },
    {
      "cell_type": "code",
      "execution_count": null,
      "metadata": {
        "colab": {
          "base_uri": "https://localhost:8080/"
        },
        "id": "bJzjb6tcbRlN",
        "outputId": "accce750-7201-4926-dc53-2c44928f690c"
      },
      "outputs": [
        {
          "name": "stderr",
          "output_type": "stream",
          "text": [
            "Some layers from the model checkpoint at /content/ were not used when initializing TFBertForSequenceClassification: ['dropout_113']\n",
            "- This IS expected if you are initializing TFBertForSequenceClassification from the checkpoint of a model trained on another task or with another architecture (e.g. initializing a BertForSequenceClassification model from a BertForPreTraining model).\n",
            "- This IS NOT expected if you are initializing TFBertForSequenceClassification from the checkpoint of a model that you expect to be exactly identical (initializing a BertForSequenceClassification model from a BertForSequenceClassification model).\n",
            "All the layers of TFBertForSequenceClassification were initialized from the model checkpoint at /content/.\n",
            "If your task is similar to the task the model of the checkpoint was trained on, you can already use TFBertForSequenceClassification for predictions without further training.\n"
          ]
        },
        {
          "name": "stdout",
          "output_type": "stream",
          "text": [
            "[{'label': 'Psoriasis', 'score': 0.154204323887825}, {'label': 'diabetes', 'score': 0.12194536626338959}]\n"
          ]
        }
      ],
      "source": [
        "# from google.colab import drive\n",
        "# drive.mount('/content/drive/')\n",
        "# from transformers import TextClassificationPipeline\n",
        "# from transformers import TFAutoModelForSequenceClassification\n",
        "# from keras.preprocessing.text import Tokenizer\n",
        "# from transformers import AutoTokenizer\n",
        "\n",
        "# tokenizer = AutoTokenizer.from_pretrained(\"bert-base-cased\")\n",
        "# model_load_path = \"/content/\"\n",
        "# loaded_model = TFAutoModelForSequenceClassification.from_pretrained(model_load_path)\n",
        "# pipe = TextClassificationPipeline(model=loaded_model, tokenizer=tokenizer, top_k = 33)\n",
        "# pred1 = pipe(\"hi\")\n",
        "# print(pred1[0][:2])"
      ]
    }
  ],
  "metadata": {
    "accelerator": "GPU",
    "colab": {
      "provenance": []
    },
    "kernelspec": {
      "display_name": "Python 3",
      "name": "python3"
    },
    "language_info": {
      "name": "python"
    },
    "widgets": {
      "application/vnd.jupyter.widget-state+json": {
        "11fbfab2f9b74e7c9505a1f9ada94b53": {
          "model_module": "@jupyter-widgets/controls",
          "model_module_version": "1.5.0",
          "model_name": "ProgressStyleModel",
          "state": {
            "_model_module": "@jupyter-widgets/controls",
            "_model_module_version": "1.5.0",
            "_model_name": "ProgressStyleModel",
            "_view_count": null,
            "_view_module": "@jupyter-widgets/base",
            "_view_module_version": "1.2.0",
            "_view_name": "StyleView",
            "bar_color": null,
            "description_width": ""
          }
        },
        "55f5a7bb83d24639be8993199297b05d": {
          "model_module": "@jupyter-widgets/base",
          "model_module_version": "1.2.0",
          "model_name": "LayoutModel",
          "state": {
            "_model_module": "@jupyter-widgets/base",
            "_model_module_version": "1.2.0",
            "_model_name": "LayoutModel",
            "_view_count": null,
            "_view_module": "@jupyter-widgets/base",
            "_view_module_version": "1.2.0",
            "_view_name": "LayoutView",
            "align_content": null,
            "align_items": null,
            "align_self": null,
            "border": null,
            "bottom": null,
            "display": null,
            "flex": null,
            "flex_flow": null,
            "grid_area": null,
            "grid_auto_columns": null,
            "grid_auto_flow": null,
            "grid_auto_rows": null,
            "grid_column": null,
            "grid_gap": null,
            "grid_row": null,
            "grid_template_areas": null,
            "grid_template_columns": null,
            "grid_template_rows": null,
            "height": null,
            "justify_content": null,
            "justify_items": null,
            "left": null,
            "margin": null,
            "max_height": null,
            "max_width": null,
            "min_height": null,
            "min_width": null,
            "object_fit": null,
            "object_position": null,
            "order": null,
            "overflow": null,
            "overflow_x": null,
            "overflow_y": null,
            "padding": null,
            "right": null,
            "top": null,
            "visibility": null,
            "width": null
          }
        },
        "70b56ba1fb384aed802f960f36f1cf6e": {
          "model_module": "@jupyter-widgets/controls",
          "model_module_version": "1.5.0",
          "model_name": "HTMLModel",
          "state": {
            "_dom_classes": [],
            "_model_module": "@jupyter-widgets/controls",
            "_model_module_version": "1.5.0",
            "_model_name": "HTMLModel",
            "_view_count": null,
            "_view_module": "@jupyter-widgets/controls",
            "_view_module_version": "1.5.0",
            "_view_name": "HTMLView",
            "description": "",
            "description_tooltip": null,
            "layout": "IPY_MODEL_e3927b7025ca415c8959f72186bdaf33",
            "placeholder": "​",
            "style": "IPY_MODEL_c7b03aefd74d4bd28f8213e07f42b546",
            "value": "100%"
          }
        },
        "7e0337b186d04985a1a36ce14177e3c0": {
          "model_module": "@jupyter-widgets/controls",
          "model_module_version": "1.5.0",
          "model_name": "FloatProgressModel",
          "state": {
            "_dom_classes": [],
            "_model_module": "@jupyter-widgets/controls",
            "_model_module_version": "1.5.0",
            "_model_name": "FloatProgressModel",
            "_view_count": null,
            "_view_module": "@jupyter-widgets/controls",
            "_view_module_version": "1.5.0",
            "_view_name": "ProgressView",
            "bar_style": "success",
            "description": "",
            "description_tooltip": null,
            "layout": "IPY_MODEL_da9b1d323a2c4ac7a334083da0b9595b",
            "max": 1816,
            "min": 0,
            "orientation": "horizontal",
            "style": "IPY_MODEL_11fbfab2f9b74e7c9505a1f9ada94b53",
            "value": 1816
          }
        },
        "7f0e6f5fdca64c808e2f2e334ce6ba4a": {
          "model_module": "@jupyter-widgets/controls",
          "model_module_version": "1.5.0",
          "model_name": "DescriptionStyleModel",
          "state": {
            "_model_module": "@jupyter-widgets/controls",
            "_model_module_version": "1.5.0",
            "_model_name": "DescriptionStyleModel",
            "_view_count": null,
            "_view_module": "@jupyter-widgets/base",
            "_view_module_version": "1.2.0",
            "_view_name": "StyleView",
            "description_width": ""
          }
        },
        "a55f15f827bb4667a80d6901ee7e8333": {
          "model_module": "@jupyter-widgets/base",
          "model_module_version": "1.2.0",
          "model_name": "LayoutModel",
          "state": {
            "_model_module": "@jupyter-widgets/base",
            "_model_module_version": "1.2.0",
            "_model_name": "LayoutModel",
            "_view_count": null,
            "_view_module": "@jupyter-widgets/base",
            "_view_module_version": "1.2.0",
            "_view_name": "LayoutView",
            "align_content": null,
            "align_items": null,
            "align_self": null,
            "border": null,
            "bottom": null,
            "display": null,
            "flex": null,
            "flex_flow": null,
            "grid_area": null,
            "grid_auto_columns": null,
            "grid_auto_flow": null,
            "grid_auto_rows": null,
            "grid_column": null,
            "grid_gap": null,
            "grid_row": null,
            "grid_template_areas": null,
            "grid_template_columns": null,
            "grid_template_rows": null,
            "height": null,
            "justify_content": null,
            "justify_items": null,
            "left": null,
            "margin": null,
            "max_height": null,
            "max_width": null,
            "min_height": null,
            "min_width": null,
            "object_fit": null,
            "object_position": null,
            "order": null,
            "overflow": null,
            "overflow_x": null,
            "overflow_y": null,
            "padding": null,
            "right": null,
            "top": null,
            "visibility": null,
            "width": null
          }
        },
        "b5620d0362744d85a12f7dbfeb0df149": {
          "model_module": "@jupyter-widgets/controls",
          "model_module_version": "1.5.0",
          "model_name": "HTMLModel",
          "state": {
            "_dom_classes": [],
            "_model_module": "@jupyter-widgets/controls",
            "_model_module_version": "1.5.0",
            "_model_name": "HTMLModel",
            "_view_count": null,
            "_view_module": "@jupyter-widgets/controls",
            "_view_module_version": "1.5.0",
            "_view_name": "HTMLView",
            "description": "",
            "description_tooltip": null,
            "layout": "IPY_MODEL_55f5a7bb83d24639be8993199297b05d",
            "placeholder": "​",
            "style": "IPY_MODEL_7f0e6f5fdca64c808e2f2e334ce6ba4a",
            "value": " 1816/1816 [00:00&lt;00:00, 41819.61it/s]"
          }
        },
        "b8c5357206074c0f9dc45390289cb132": {
          "model_module": "@jupyter-widgets/controls",
          "model_module_version": "1.5.0",
          "model_name": "HBoxModel",
          "state": {
            "_dom_classes": [],
            "_model_module": "@jupyter-widgets/controls",
            "_model_module_version": "1.5.0",
            "_model_name": "HBoxModel",
            "_view_count": null,
            "_view_module": "@jupyter-widgets/controls",
            "_view_module_version": "1.5.0",
            "_view_name": "HBoxView",
            "box_style": "",
            "children": [
              "IPY_MODEL_70b56ba1fb384aed802f960f36f1cf6e",
              "IPY_MODEL_7e0337b186d04985a1a36ce14177e3c0",
              "IPY_MODEL_b5620d0362744d85a12f7dbfeb0df149"
            ],
            "layout": "IPY_MODEL_a55f15f827bb4667a80d6901ee7e8333"
          }
        },
        "c7b03aefd74d4bd28f8213e07f42b546": {
          "model_module": "@jupyter-widgets/controls",
          "model_module_version": "1.5.0",
          "model_name": "DescriptionStyleModel",
          "state": {
            "_model_module": "@jupyter-widgets/controls",
            "_model_module_version": "1.5.0",
            "_model_name": "DescriptionStyleModel",
            "_view_count": null,
            "_view_module": "@jupyter-widgets/base",
            "_view_module_version": "1.2.0",
            "_view_name": "StyleView",
            "description_width": ""
          }
        },
        "da9b1d323a2c4ac7a334083da0b9595b": {
          "model_module": "@jupyter-widgets/base",
          "model_module_version": "1.2.0",
          "model_name": "LayoutModel",
          "state": {
            "_model_module": "@jupyter-widgets/base",
            "_model_module_version": "1.2.0",
            "_model_name": "LayoutModel",
            "_view_count": null,
            "_view_module": "@jupyter-widgets/base",
            "_view_module_version": "1.2.0",
            "_view_name": "LayoutView",
            "align_content": null,
            "align_items": null,
            "align_self": null,
            "border": null,
            "bottom": null,
            "display": null,
            "flex": null,
            "flex_flow": null,
            "grid_area": null,
            "grid_auto_columns": null,
            "grid_auto_flow": null,
            "grid_auto_rows": null,
            "grid_column": null,
            "grid_gap": null,
            "grid_row": null,
            "grid_template_areas": null,
            "grid_template_columns": null,
            "grid_template_rows": null,
            "height": null,
            "justify_content": null,
            "justify_items": null,
            "left": null,
            "margin": null,
            "max_height": null,
            "max_width": null,
            "min_height": null,
            "min_width": null,
            "object_fit": null,
            "object_position": null,
            "order": null,
            "overflow": null,
            "overflow_x": null,
            "overflow_y": null,
            "padding": null,
            "right": null,
            "top": null,
            "visibility": null,
            "width": null
          }
        },
        "e3927b7025ca415c8959f72186bdaf33": {
          "model_module": "@jupyter-widgets/base",
          "model_module_version": "1.2.0",
          "model_name": "LayoutModel",
          "state": {
            "_model_module": "@jupyter-widgets/base",
            "_model_module_version": "1.2.0",
            "_model_name": "LayoutModel",
            "_view_count": null,
            "_view_module": "@jupyter-widgets/base",
            "_view_module_version": "1.2.0",
            "_view_name": "LayoutView",
            "align_content": null,
            "align_items": null,
            "align_self": null,
            "border": null,
            "bottom": null,
            "display": null,
            "flex": null,
            "flex_flow": null,
            "grid_area": null,
            "grid_auto_columns": null,
            "grid_auto_flow": null,
            "grid_auto_rows": null,
            "grid_column": null,
            "grid_gap": null,
            "grid_row": null,
            "grid_template_areas": null,
            "grid_template_columns": null,
            "grid_template_rows": null,
            "height": null,
            "justify_content": null,
            "justify_items": null,
            "left": null,
            "margin": null,
            "max_height": null,
            "max_width": null,
            "min_height": null,
            "min_width": null,
            "object_fit": null,
            "object_position": null,
            "order": null,
            "overflow": null,
            "overflow_x": null,
            "overflow_y": null,
            "padding": null,
            "right": null,
            "top": null,
            "visibility": null,
            "width": null
          }
        }
      }
    }
  },
  "nbformat": 4,
  "nbformat_minor": 0
}
